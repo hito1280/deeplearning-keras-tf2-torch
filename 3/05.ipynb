{
 "cells": [
  {
   "cell_type": "code",
   "execution_count": 1,
   "metadata": {},
   "outputs": [],
   "source": [
    "import numpy as np\n",
    "from models import MLP\n",
    "from sklearn import datasets\n",
    "from sklearn.utils import shuffle\n",
    "from sklearn.model_selection import train_test_split\n",
    "from sklearn.metrics import accuracy_score"
   ]
  },
  {
   "cell_type": "code",
   "execution_count": 3,
   "metadata": {},
   "outputs": [],
   "source": [
    "\n",
    "N = 300\n",
    "x, t = datasets.make_moons(N, noise=0.3)\n",
    "t = t.reshape(N, 1)\n",
    "x_train, x_test, t_train, t_test = train_test_split(x, t, test_size=0.2)"
   ]
  },
  {
   "cell_type": "code",
   "execution_count": 11,
   "metadata": {},
   "outputs": [],
   "source": [
    "# model = MLP(2, 2, 1)\n",
    "model = MLP(2, 3, 1)\n",
    "\n",
    "def compute_loss(t, y):\n",
    "    return (-t * np.log(y) - (1 - t) * np.log(1 - y)).sum()\n",
    "\n",
    "def train_step(x, t):\n",
    "    y = model(x)\n",
    "    for i, layer in enumerate(model.layers[::-1]):\n",
    "        if i == 0:\n",
    "            delta = y - t\n",
    "        else:\n",
    "            delta = layer.backward(delta, W)\n",
    "\n",
    "        dW, db = layer.compute_gradients(delta)\n",
    "        layer.W = layer.W - 0.1 * dW\n",
    "        layer.b = layer.b - 0.1 * db\n",
    "\n",
    "        W = layer.W\n",
    "\n",
    "    loss = compute_loss(t, y)\n",
    "    return loss"
   ]
  },
  {
   "cell_type": "code",
   "execution_count": 12,
   "metadata": {},
   "outputs": [
    {
     "name": "stdout",
     "output_type": "stream",
     "text": [
      "epoch: 1, loss: 153.991\n",
      "epoch: 11, loss: 116.901\n",
      "epoch: 21, loss: 99.376\n",
      "epoch: 31, loss: 95.688\n",
      "epoch: 41, loss: 109.684\n",
      "epoch: 51, loss: 99.292\n",
      "epoch: 61, loss: 109.440\n",
      "epoch: 71, loss: 92.335\n",
      "epoch: 81, loss: 91.469\n",
      "epoch: 91, loss: 83.929\n",
      "epoch: 100, loss: 67.618\n"
     ]
    }
   ],
   "source": [
    "epochs = 100\n",
    "batch_size = 30\n",
    "n_batches = x_train.shape[0] // batch_size\n",
    "\n",
    "for epoch in range(epochs):\n",
    "    train_loss = 0.\n",
    "    x_, t_ = shuffle(x_train, t_train)\n",
    "\n",
    "    for n_batch in range(n_batches):\n",
    "        start = n_batch * batch_size\n",
    "        end = start + batch_size\n",
    "\n",
    "        train_loss += train_step(x_[start:end],\n",
    "                                    t_[start:end])\n",
    "\n",
    "    if epoch % 10 == 0 or epoch == epochs - 1:\n",
    "        print('epoch: {}, loss: {:.3f}'.format(\n",
    "            epoch+1,\n",
    "            train_loss\n",
    "        ))"
   ]
  },
  {
   "cell_type": "code",
   "execution_count": 13,
   "metadata": {},
   "outputs": [
    {
     "name": "stdout",
     "output_type": "stream",
     "text": [
      "acc.:  0.9333333333333333\n"
     ]
    }
   ],
   "source": [
    "preds = model(x_test) > 0.5\n",
    "acc = accuracy_score(t_test, preds)\n",
    "print('acc.: ', acc)"
   ]
  },
  {
   "cell_type": "code",
   "execution_count": null,
   "metadata": {},
   "outputs": [],
   "source": []
  }
 ],
 "metadata": {
  "kernelspec": {
   "display_name": "Python 3.10.5 ('dl-tf-ptvenv': venv)",
   "language": "python",
   "name": "python3"
  },
  "language_info": {
   "codemirror_mode": {
    "name": "ipython",
    "version": 3
   },
   "file_extension": ".py",
   "mimetype": "text/x-python",
   "name": "python",
   "nbconvert_exporter": "python",
   "pygments_lexer": "ipython3",
   "version": "3.10.5"
  },
  "orig_nbformat": 4,
  "vscode": {
   "interpreter": {
    "hash": "db57a9e83bb1ac205d6811bc29cda304eb81c335675697ff0a5eeb5067f7012c"
   }
  }
 },
 "nbformat": 4,
 "nbformat_minor": 2
}
